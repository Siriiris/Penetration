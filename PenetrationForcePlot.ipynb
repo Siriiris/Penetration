{
 "cells": [
  {
   "cell_type": "code",
   "execution_count": 1,
   "metadata": {},
   "outputs": [],
   "source": [
    "import pandas as pd\n",
    "import numpy as np\n",
    "import matplotlib.pyplot as plt"
   ]
  },
  {
   "cell_type": "code",
   "execution_count": 2,
   "metadata": {},
   "outputs": [],
   "source": [
    "Loadframedf = pd.read_csv(\"penetration_test_2.csv\")"
   ]
  },
  {
   "cell_type": "code",
   "execution_count": 55,
   "metadata": {},
   "outputs": [
    {
     "data": {
      "text/html": [
       "<div>\n",
       "<style scoped>\n",
       "    .dataframe tbody tr th:only-of-type {\n",
       "        vertical-align: middle;\n",
       "    }\n",
       "\n",
       "    .dataframe tbody tr th {\n",
       "        vertical-align: top;\n",
       "    }\n",
       "\n",
       "    .dataframe thead th {\n",
       "        text-align: right;\n",
       "    }\n",
       "</style>\n",
       "<table border=\"1\" class=\"dataframe\">\n",
       "  <thead>\n",
       "    <tr style=\"text-align: right;\">\n",
       "      <th></th>\n",
       "      <th>Reading</th>\n",
       "      <th>Load</th>\n",
       "      <th>Travel</th>\n",
       "      <th>Time</th>\n",
       "      <th>Displcement</th>\n",
       "      <th>DispZero</th>\n",
       "    </tr>\n",
       "  </thead>\n",
       "  <tbody>\n",
       "    <tr>\n",
       "      <th>0</th>\n",
       "      <td>1</td>\n",
       "      <td>-0.5</td>\n",
       "      <td>-69.00</td>\n",
       "      <td>0.000</td>\n",
       "      <td>69.00</td>\n",
       "      <td>0.00</td>\n",
       "    </tr>\n",
       "    <tr>\n",
       "      <th>1</th>\n",
       "      <td>2</td>\n",
       "      <td>-0.5</td>\n",
       "      <td>-69.00</td>\n",
       "      <td>0.096</td>\n",
       "      <td>69.00</td>\n",
       "      <td>0.00</td>\n",
       "    </tr>\n",
       "    <tr>\n",
       "      <th>2</th>\n",
       "      <td>3</td>\n",
       "      <td>0.0</td>\n",
       "      <td>-69.00</td>\n",
       "      <td>0.145</td>\n",
       "      <td>69.00</td>\n",
       "      <td>0.00</td>\n",
       "    </tr>\n",
       "    <tr>\n",
       "      <th>3</th>\n",
       "      <td>4</td>\n",
       "      <td>0.0</td>\n",
       "      <td>-69.00</td>\n",
       "      <td>0.195</td>\n",
       "      <td>69.00</td>\n",
       "      <td>0.00</td>\n",
       "    </tr>\n",
       "    <tr>\n",
       "      <th>4</th>\n",
       "      <td>5</td>\n",
       "      <td>0.0</td>\n",
       "      <td>-69.00</td>\n",
       "      <td>0.245</td>\n",
       "      <td>69.00</td>\n",
       "      <td>0.00</td>\n",
       "    </tr>\n",
       "    <tr>\n",
       "      <th>...</th>\n",
       "      <td>...</td>\n",
       "      <td>...</td>\n",
       "      <td>...</td>\n",
       "      <td>...</td>\n",
       "      <td>...</td>\n",
       "      <td>...</td>\n",
       "    </tr>\n",
       "    <tr>\n",
       "      <th>6742</th>\n",
       "      <td>6743</td>\n",
       "      <td>19.0</td>\n",
       "      <td>-71.28</td>\n",
       "      <td>403.347</td>\n",
       "      <td>71.28</td>\n",
       "      <td>2.28</td>\n",
       "    </tr>\n",
       "    <tr>\n",
       "      <th>6743</th>\n",
       "      <td>6744</td>\n",
       "      <td>19.5</td>\n",
       "      <td>-71.28</td>\n",
       "      <td>403.395</td>\n",
       "      <td>71.28</td>\n",
       "      <td>2.28</td>\n",
       "    </tr>\n",
       "    <tr>\n",
       "      <th>6744</th>\n",
       "      <td>6745</td>\n",
       "      <td>19.0</td>\n",
       "      <td>-71.28</td>\n",
       "      <td>403.498</td>\n",
       "      <td>71.28</td>\n",
       "      <td>2.28</td>\n",
       "    </tr>\n",
       "    <tr>\n",
       "      <th>6745</th>\n",
       "      <td>6746</td>\n",
       "      <td>19.0</td>\n",
       "      <td>-71.28</td>\n",
       "      <td>403.546</td>\n",
       "      <td>71.28</td>\n",
       "      <td>2.28</td>\n",
       "    </tr>\n",
       "    <tr>\n",
       "      <th>6746</th>\n",
       "      <td>6747</td>\n",
       "      <td>19.5</td>\n",
       "      <td>-71.28</td>\n",
       "      <td>403.645</td>\n",
       "      <td>71.28</td>\n",
       "      <td>2.28</td>\n",
       "    </tr>\n",
       "  </tbody>\n",
       "</table>\n",
       "<p>6747 rows × 6 columns</p>\n",
       "</div>"
      ],
      "text/plain": [
       "      Reading  Load  Travel     Time  Displcement  DispZero\n",
       "0           1  -0.5  -69.00    0.000        69.00      0.00\n",
       "1           2  -0.5  -69.00    0.096        69.00      0.00\n",
       "2           3   0.0  -69.00    0.145        69.00      0.00\n",
       "3           4   0.0  -69.00    0.195        69.00      0.00\n",
       "4           5   0.0  -69.00    0.245        69.00      0.00\n",
       "...       ...   ...     ...      ...          ...       ...\n",
       "6742     6743  19.0  -71.28  403.347        71.28      2.28\n",
       "6743     6744  19.5  -71.28  403.395        71.28      2.28\n",
       "6744     6745  19.0  -71.28  403.498        71.28      2.28\n",
       "6745     6746  19.0  -71.28  403.546        71.28      2.28\n",
       "6746     6747  19.5  -71.28  403.645        71.28      2.28\n",
       "\n",
       "[6747 rows x 6 columns]"
      ]
     },
     "execution_count": 55,
     "metadata": {},
     "output_type": "execute_result"
    }
   ],
   "source": [
    "Loadframedf"
   ]
  },
  {
   "cell_type": "code",
   "execution_count": 4,
   "metadata": {},
   "outputs": [],
   "source": [
    "Loadframedf.rename(columns = {'Load [N]' : 'Load', 'Travel [mm]' : 'Travel'}, inplace = True)"
   ]
  },
  {
   "cell_type": "code",
   "execution_count": 5,
   "metadata": {
    "scrolled": true
   },
   "outputs": [],
   "source": [
    "Loadframedf = Loadframedf.assign(Displcement = Loadframedf['Travel'] * (-1),DispZero = Loadframedf['Travel']*(-1) -69)"
   ]
  },
  {
   "cell_type": "code",
   "execution_count": 54,
   "metadata": {},
   "outputs": [
    {
     "data": {
      "text/html": [
       "<div>\n",
       "<style scoped>\n",
       "    .dataframe tbody tr th:only-of-type {\n",
       "        vertical-align: middle;\n",
       "    }\n",
       "\n",
       "    .dataframe tbody tr th {\n",
       "        vertical-align: top;\n",
       "    }\n",
       "\n",
       "    .dataframe thead th {\n",
       "        text-align: right;\n",
       "    }\n",
       "</style>\n",
       "<table border=\"1\" class=\"dataframe\">\n",
       "  <thead>\n",
       "    <tr style=\"text-align: right;\">\n",
       "      <th></th>\n",
       "      <th>Reading</th>\n",
       "      <th>Load</th>\n",
       "      <th>Travel</th>\n",
       "      <th>Time</th>\n",
       "      <th>Displcement</th>\n",
       "      <th>DispZero</th>\n",
       "    </tr>\n",
       "  </thead>\n",
       "  <tbody>\n",
       "    <tr>\n",
       "      <th>6742</th>\n",
       "      <td>6743</td>\n",
       "      <td>19.0</td>\n",
       "      <td>-71.28</td>\n",
       "      <td>403.347</td>\n",
       "      <td>71.28</td>\n",
       "      <td>2.28</td>\n",
       "    </tr>\n",
       "    <tr>\n",
       "      <th>6743</th>\n",
       "      <td>6744</td>\n",
       "      <td>19.5</td>\n",
       "      <td>-71.28</td>\n",
       "      <td>403.395</td>\n",
       "      <td>71.28</td>\n",
       "      <td>2.28</td>\n",
       "    </tr>\n",
       "    <tr>\n",
       "      <th>6744</th>\n",
       "      <td>6745</td>\n",
       "      <td>19.0</td>\n",
       "      <td>-71.28</td>\n",
       "      <td>403.498</td>\n",
       "      <td>71.28</td>\n",
       "      <td>2.28</td>\n",
       "    </tr>\n",
       "    <tr>\n",
       "      <th>6745</th>\n",
       "      <td>6746</td>\n",
       "      <td>19.0</td>\n",
       "      <td>-71.28</td>\n",
       "      <td>403.546</td>\n",
       "      <td>71.28</td>\n",
       "      <td>2.28</td>\n",
       "    </tr>\n",
       "    <tr>\n",
       "      <th>6746</th>\n",
       "      <td>6747</td>\n",
       "      <td>19.5</td>\n",
       "      <td>-71.28</td>\n",
       "      <td>403.645</td>\n",
       "      <td>71.28</td>\n",
       "      <td>2.28</td>\n",
       "    </tr>\n",
       "  </tbody>\n",
       "</table>\n",
       "</div>"
      ],
      "text/plain": [
       "      Reading  Load  Travel     Time  Displcement  DispZero\n",
       "6742     6743  19.0  -71.28  403.347        71.28      2.28\n",
       "6743     6744  19.5  -71.28  403.395        71.28      2.28\n",
       "6744     6745  19.0  -71.28  403.498        71.28      2.28\n",
       "6745     6746  19.0  -71.28  403.546        71.28      2.28\n",
       "6746     6747  19.5  -71.28  403.645        71.28      2.28"
      ]
     },
     "execution_count": 54,
     "metadata": {},
     "output_type": "execute_result"
    }
   ],
   "source": [
    "Loadframedf.tail()"
   ]
  },
  {
   "cell_type": "code",
   "execution_count": 7,
   "metadata": {},
   "outputs": [
    {
     "data": {
      "text/html": [
       "<div>\n",
       "<style scoped>\n",
       "    .dataframe tbody tr th:only-of-type {\n",
       "        vertical-align: middle;\n",
       "    }\n",
       "\n",
       "    .dataframe tbody tr th {\n",
       "        vertical-align: top;\n",
       "    }\n",
       "\n",
       "    .dataframe thead th {\n",
       "        text-align: right;\n",
       "    }\n",
       "</style>\n",
       "<table border=\"1\" class=\"dataframe\">\n",
       "  <thead>\n",
       "    <tr style=\"text-align: right;\">\n",
       "      <th></th>\n",
       "      <th>Reading</th>\n",
       "      <th>Load</th>\n",
       "      <th>Travel</th>\n",
       "      <th>Time</th>\n",
       "      <th>Displcement</th>\n",
       "      <th>DispZero</th>\n",
       "    </tr>\n",
       "  </thead>\n",
       "  <tbody>\n",
       "    <tr>\n",
       "      <th>0</th>\n",
       "      <td>False</td>\n",
       "      <td>False</td>\n",
       "      <td>False</td>\n",
       "      <td>False</td>\n",
       "      <td>False</td>\n",
       "      <td>False</td>\n",
       "    </tr>\n",
       "    <tr>\n",
       "      <th>1</th>\n",
       "      <td>False</td>\n",
       "      <td>False</td>\n",
       "      <td>False</td>\n",
       "      <td>False</td>\n",
       "      <td>False</td>\n",
       "      <td>False</td>\n",
       "    </tr>\n",
       "    <tr>\n",
       "      <th>2</th>\n",
       "      <td>False</td>\n",
       "      <td>False</td>\n",
       "      <td>False</td>\n",
       "      <td>False</td>\n",
       "      <td>False</td>\n",
       "      <td>False</td>\n",
       "    </tr>\n",
       "    <tr>\n",
       "      <th>3</th>\n",
       "      <td>False</td>\n",
       "      <td>False</td>\n",
       "      <td>False</td>\n",
       "      <td>False</td>\n",
       "      <td>False</td>\n",
       "      <td>False</td>\n",
       "    </tr>\n",
       "    <tr>\n",
       "      <th>4</th>\n",
       "      <td>False</td>\n",
       "      <td>False</td>\n",
       "      <td>False</td>\n",
       "      <td>False</td>\n",
       "      <td>False</td>\n",
       "      <td>False</td>\n",
       "    </tr>\n",
       "    <tr>\n",
       "      <th>...</th>\n",
       "      <td>...</td>\n",
       "      <td>...</td>\n",
       "      <td>...</td>\n",
       "      <td>...</td>\n",
       "      <td>...</td>\n",
       "      <td>...</td>\n",
       "    </tr>\n",
       "    <tr>\n",
       "      <th>6743</th>\n",
       "      <td>False</td>\n",
       "      <td>False</td>\n",
       "      <td>False</td>\n",
       "      <td>False</td>\n",
       "      <td>False</td>\n",
       "      <td>False</td>\n",
       "    </tr>\n",
       "    <tr>\n",
       "      <th>6744</th>\n",
       "      <td>False</td>\n",
       "      <td>False</td>\n",
       "      <td>False</td>\n",
       "      <td>False</td>\n",
       "      <td>False</td>\n",
       "      <td>False</td>\n",
       "    </tr>\n",
       "    <tr>\n",
       "      <th>6745</th>\n",
       "      <td>False</td>\n",
       "      <td>False</td>\n",
       "      <td>False</td>\n",
       "      <td>False</td>\n",
       "      <td>False</td>\n",
       "      <td>False</td>\n",
       "    </tr>\n",
       "    <tr>\n",
       "      <th>6746</th>\n",
       "      <td>False</td>\n",
       "      <td>False</td>\n",
       "      <td>False</td>\n",
       "      <td>False</td>\n",
       "      <td>False</td>\n",
       "      <td>False</td>\n",
       "    </tr>\n",
       "    <tr>\n",
       "      <th>6747</th>\n",
       "      <td>False</td>\n",
       "      <td>False</td>\n",
       "      <td>True</td>\n",
       "      <td>True</td>\n",
       "      <td>True</td>\n",
       "      <td>True</td>\n",
       "    </tr>\n",
       "  </tbody>\n",
       "</table>\n",
       "<p>6748 rows × 6 columns</p>\n",
       "</div>"
      ],
      "text/plain": [
       "      Reading   Load  Travel   Time  Displcement  DispZero\n",
       "0       False  False   False  False        False     False\n",
       "1       False  False   False  False        False     False\n",
       "2       False  False   False  False        False     False\n",
       "3       False  False   False  False        False     False\n",
       "4       False  False   False  False        False     False\n",
       "...       ...    ...     ...    ...          ...       ...\n",
       "6743    False  False   False  False        False     False\n",
       "6744    False  False   False  False        False     False\n",
       "6745    False  False   False  False        False     False\n",
       "6746    False  False   False  False        False     False\n",
       "6747    False  False    True   True         True      True\n",
       "\n",
       "[6748 rows x 6 columns]"
      ]
     },
     "execution_count": 7,
     "metadata": {},
     "output_type": "execute_result"
    }
   ],
   "source": [
    "Loadframedf.isnull()"
   ]
  },
  {
   "cell_type": "code",
   "execution_count": 8,
   "metadata": {
    "scrolled": true
   },
   "outputs": [],
   "source": [
    "Loadframedf = Loadframedf.dropna()"
   ]
  },
  {
   "cell_type": "code",
   "execution_count": 22,
   "metadata": {},
   "outputs": [
    {
     "data": {
      "text/plain": [
       "Text(0, 0.5, 'Force (N)')"
      ]
     },
     "execution_count": 22,
     "metadata": {},
     "output_type": "execute_result"
    },
    {
     "data": {
      "image/png": "[encoded data removed]",
      "text/plain": [
       "<Figure size 432x288 with 1 Axes>"
      ]
     },
     "metadata": {
      "needs_background": "light"
     },
     "output_type": "display_data"
    }
   ],
   "source": [
    "ax1 = Loadframedf.plot(x = 'DispZero', y ='Load', c='red')\n",
    "ax1.set_xlabel('Dispacement (mm)')\n",
    "ax1.set_ylabel('Force (N)')"
   ]
  },
  {
   "cell_type": "code",
   "execution_count": 24,
   "metadata": {},
   "outputs": [
    {
     "data": {
      "text/plain": [
       "Text(0, 0.5, 'Force (N)')"
      ]
     },
     "execution_count": 24,
     "metadata": {},
     "output_type": "execute_result"
    },
    {
     "data": {
      "image/png": "[encoded data removed]",
      "text/plain": [
       "<Figure size 432x288 with 1 Axes>"
      ]
     },
     "metadata": {
      "needs_background": "light"
     },
     "output_type": "display_data"
    }
   ],
   "source": [
    "ax2 = Loadframedf.plot(x = 'Time' , y = 'Load', c = 'green')\n",
    "ax2.set_xlabel('Time (s)')\n",
    "ax2.set_ylabel('Force (N)')"
   ]
  },
  {
   "cell_type": "code",
   "execution_count": 53,
   "metadata": {},
   "outputs": [
    {
     "data": {
      "image/png": "[encoded data removed]",
      "text/plain": [
       "<Figure size 1080x360 with 2 Axes>"
      ]
     },
     "metadata": {
      "needs_background": "light"
     },
     "output_type": "display_data"
    }
   ],
   "source": [
    "fig, (ax1, ax2) = plt.subplots(nrows = 1, ncols = 2, figsize=(15,5))\n",
    "fig.suptitle('Penetration Test')\n",
    "\n",
    "Loadframedf.plot(x = 'DispZero', y ='Load', c ='red', ax = ax1)\n",
    "Loadframedf.plot(x = 'Time' , y = 'Load', c = 'blue', ax = ax2)\n",
    "ax1.set_ylabel('Force (N)')\n",
    "ax1.set_xlabel('Displacement (mm)')\n",
    "ax2.set_xlabel('Time (s)')\n",
    "plt.show()"
   ]
  },
  {
   "cell_type": "code",
   "execution_count": null,
   "metadata": {},
   "outputs": [],
   "source": []
  }
 ],
 "metadata": {
  "kernelspec": {
   "display_name": "Python 3",
   "language": "python",
   "name": "python3"
  },
  "language_info": {
   "codemirror_mode": {
    "name": "ipython",
    "version": 3
   },
   "file_extension": ".py",
   "mimetype": "text/x-python",
   "name": "python",
   "nbconvert_exporter": "python",
   "pygments_lexer": "ipython3",
   "version": "3.8.3"
  }
 },
 "nbformat": 4,
 "nbformat_minor": 4
}
